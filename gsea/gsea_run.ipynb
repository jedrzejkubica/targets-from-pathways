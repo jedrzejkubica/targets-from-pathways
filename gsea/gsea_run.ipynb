{
 "cells": [
  {
   "cell_type": "markdown",
   "id": "6e2e9b47",
   "metadata": {},
   "source": [
    "## Run blitzGSEA"
   ]
  },
  {
   "cell_type": "code",
   "execution_count": 1,
   "id": "8aca47cd",
   "metadata": {},
   "outputs": [],
   "source": [
    "import os\n",
    "import pandas as pd\n",
    "import blitzgsea as blitz"
   ]
  },
  {
   "cell_type": "code",
   "execution_count": 2,
   "id": "b7253d35",
   "metadata": {},
   "outputs": [],
   "source": [
    "def load_custom_gmt(path):\n",
    "    \"\"\"\n",
    "    Parse a GMT file into a dict: {term_name: [gene1, gene2, ...], …}\n",
    "    \"\"\"\n",
    "    with open(path, 'r') as f:\n",
    "        return {\n",
    "            parts[0]: parts[2:]   # skip description at index 1\n",
    "            for line in f\n",
    "            if (parts := line.strip().split('\\t')) and len(parts) > 2\n",
    "        }\n",
    "\n",
    "\n",
    "def run_gsea_pandas(input_tsv, gmt_file, output_tsv=None, processes=4):\n",
    "    \"\"\"\n",
    "    Reads TSV, renames columns, runs GSEA with custom pathways, saves as TSV.\n",
    "    \n",
    "    Parameters\n",
    "    ----------\n",
    "    input_tsv : str\n",
    "        Input file with at least 'symbol' and 'globalScore' columns.\n",
    "    gmt_file : str\n",
    "        Path to custom GMT file.\n",
    "    processes : int\n",
    "        Number of processes for GSEA.\n",
    "    output_tsv : str or None\n",
    "        Custom output filename. If None, defaults to <input_basename>_gsea.tsv\n",
    "    \"\"\"\n",
    "    # Load library\n",
    "    library_sets = load_custom_gmt(gmt_file)\n",
    "\n",
    "    # Read input TSV\n",
    "    df = pd.read_csv(input_tsv, sep=\"\\t\", header=0, index_col=None)\n",
    "    \n",
    "    # Create the expected format for blitz.gsea: columns [0, 1]\n",
    "    gsea_df = pd.DataFrame()\n",
    "    gsea_df[1] = df['symbol']  # gene symbols (matching GMT library)\n",
    "    gsea_df[0] = pd.to_numeric(df['globalScore'], errors='coerce')  # scores\n",
    "    \n",
    "    # Drop rows with NaN scores\n",
    "    gsea_df = gsea_df.dropna(subset=[0])\n",
    "    \n",
    "    print(f\"GSEA input shape: {gsea_df.shape}\")\n",
    "    print(f\"GSEA input columns: {gsea_df.columns.tolist()}\")\n",
    "    print(f\"GSEA input sample:\\n{gsea_df.head()}\")\n",
    "    \n",
    "    # Run GSEA\n",
    "    res_df = blitz.gsea(gsea_df, library_sets, processes=processes).reset_index(names=\"Term\")\n",
    "\n",
    "    # Add propagated_edge after GSEA computation is complete\n",
    "    res_df[\"propagated_edge\"] = res_df[\"Term\"].apply(\n",
    "        lambda t: \",\".join(library_sets.get(t, [])) if library_sets.get(t) else \"\"\n",
    "    )\n",
    "\n",
    "    # Extract ID and clean Term\n",
    "    term_series = res_df[\"Term\"]\n",
    "    res_df[\"ID\"] = term_series.str.extract(r\"\\[([^\\]]+)\\]\", expand=False).fillna(\"\")\n",
    "    res_df[\"Term\"] = term_series.str.replace(r\"\\s*\\[[^\\]]+\\]\", \"\", regex=True).str.strip()\n",
    "\n",
    "    # Ensure leading_edge is a string\n",
    "    if \"leading_edge\" in res_df.columns:\n",
    "        res_df[\"leading_edge\"] = res_df[\"leading_edge\"].apply(\n",
    "            lambda x: \",\".join(map(str, x)) if isinstance(x, (list, tuple)) else str(x)\n",
    "        )\n",
    "\n",
    "    # Reorder columns\n",
    "    first_cols = [\"Term\", \"ID\"]\n",
    "    res_df = res_df[first_cols + [c for c in res_df.columns if c not in first_cols]]\n",
    "\n",
    "    # Determine output filename\n",
    "    if output_tsv is None:\n",
    "        output_tsv = f\"{os.path.splitext(input_tsv)[0]}_gsea.tsv\"\n",
    "\n",
    "    # Save output\n",
    "    res_df.to_csv(output_tsv, sep=\"\\t\", index=False)\n",
    "\n",
    "    print(f\"GSEA results saved to {output_tsv}\")\n",
    "    return res_df"
   ]
  },
  {
   "cell_type": "markdown",
   "id": "a09b601c",
   "metadata": {},
   "source": [
    "### Reactome from database"
   ]
  },
  {
   "cell_type": "code",
   "execution_count": null,
   "id": "8c8e89b0",
   "metadata": {},
   "outputs": [
    {
     "name": "stdout",
     "output_type": "stream",
     "text": [
      "GSEA input shape: (8285, 2)\n",
      "GSEA input columns: [1, 0]\n",
      "GSEA input sample:\n",
      "        1         0\n",
      "0  CDKN2B  8.694865\n",
      "1     ABO  8.224087\n",
      "2     FTO  7.753310\n",
      "3   SH2B3  6.811755\n",
      "4    APOE  6.340978\n"
     ]
    }
   ],
   "source": [
    "scores = \"/Users/polina/genetics_gsea/data/input/geneset_disease_zscore.tsv\"\n",
    "library = \"/Users/polina/targets-from-pathways/gsea/Reactome_2025/ReactomePathways_merged.gmt.gmt\"\n",
    "output_name = \"/Users/polina/genetics_gsea/data/gsea/from_database/disease_zscore_reactome_2025.tsv\"\n",
    "output_name = \"/Users/polina/genetics_gsea/data/gsea/from_database/disease_zscore_reactome_2025.tsv\"\n",
    "\n",
    "run_gsea_pandas(scores, library, processes=4, output_tsv=output_name)"
   ]
  },
  {
   "cell_type": "code",
   "execution_count": null,
   "id": "43e4f7b2",
   "metadata": {},
   "outputs": [],
   "source": []
  },
  {
   "cell_type": "code",
   "execution_count": null,
   "id": "82f4b00e",
   "metadata": {},
   "outputs": [],
   "source": []
  }
 ],
 "metadata": {
  "kernelspec": {
   "display_name": "Python 3",
   "language": "python",
   "name": "python3"
  },
  "language_info": {
   "codemirror_mode": {
    "name": "ipython",
    "version": 3
   },
   "file_extension": ".py",
   "mimetype": "text/x-python",
   "name": "python",
   "nbconvert_exporter": "python",
   "pygments_lexer": "ipython3",
   "version": "3.11.6"
  }
 },
 "nbformat": 4,
 "nbformat_minor": 5
}
